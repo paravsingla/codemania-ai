{
 "cells": [
  {
   "cell_type": "code",
   "execution_count": 47,
   "metadata": {
    "scrolled": false
   },
   "outputs": [
    {
     "name": "stderr",
     "output_type": "stream",
     "text": [
      "/usr/local/lib/python3.6/dist-packages/IPython/core/interactiveshell.py:2728: DtypeWarning: Columns (7) have mixed types. Specify dtype option on import or set low_memory=False.\n",
      "  interactivity=interactivity, compiler=compiler, result=result)\n"
     ]
    },
    {
     "data": {
      "image/png": "[encoded data removed]",
      "text/plain": [
       "<Figure size 432x288 with 1 Axes>"
      ]
     },
     "metadata": {},
     "output_type": "display_data"
    }
   ],
   "source": [
    "import pandas as pd\n",
    "import seaborn as sns\n",
    "\n",
    "df = pd.read_csv(\"train.csv\") \n",
    "# these files should be in the same directory the jupyter notebook is created\n",
    "store = pd.read_csv(\"store.csv\")\n",
    "\n",
    "# merge the two dataframes\n",
    "df_new = df.merge(store, on = [\"Store\"], how = \"inner\")\n",
    "\n",
    "# Print the unique values\n",
    "print(\"Number of Stores\", len(df_new[\"Store\"].unique()))\n",
    "print(\"Unique Dates\", len(df_new[\"Date\"].unique()))\n",
    "\n",
    "# Find the mean of sales\n",
    "print(df_new[\"Sales\"].mean())\n",
    "\n",
    "# Find the number of days and count for each day of the week\n",
    "df_new[\"DayOfWeek\"].value_counts()\n",
    "\n",
    "# import numpy\n",
    "import numpy as np\n",
    "\n",
    "# create new columns for days, weeks, months using information in date column\n",
    "df_new[\"Date\"] = pd.to_datetime(df_new[\"Date\"], infer_datetime_format = True)\n",
    "df_new[\"Month\"] = df_new[\"Date\"].dt.month\n",
    "df_new[\"Quarter\"] = df_new[\"Date\"].dt.quarter\n",
    "df_new[\"Year\"] = df_new[\"Date\"].dt.year\n",
    "df_new[\"Day\"] = df_new[\"Date\"].dt.day\n",
    "df_new[\"Week\"] = df_new[\"Date\"].dt.week\n",
    "\n",
    "# plot data to visualize\n",
    "%matplotlib inline\n",
    "from matplotlib import pyplot as plt\n",
    "\n",
    "# plot the histogram for sales\n",
    "plt.hist(df_new[\"Sales\"])\n",
    "\n",
    "# plot histogram for everything\n",
    "df_new.hist(figsize = (20,10))\n",
    "\n",
    "# find null value percentage\n",
    "print(df_new.isnull().sum()/len(df_new)*100)\n",
    "\n",
    "# fill null values with mode of the column\n",
    "mode_cd = df_new[\"CompetitionDistance\"].mode()\n",
    "cd_new = df_new[\"CompetitionDistance\"].fillna(mode_cd[0])\n",
    "df_new[\"CompetitionDistance\"] = cd_new\n",
    "\n",
    "# do it for all columns\n",
    "df_new[\"PromoInterval\"] = df_new[\"PromoInterval\"].fillna(\n",
    "    df_new[\"PromoInterval\"].mode()[0])\n",
    "\n",
    "# check that the percentage of null values is zero\n",
    "print(df_new.isnull().sum()/len(df_new)*100)\n",
    "\n",
    "# plot categorical plots for columns that have categories\n",
    "ax = sns.barplot(x = \"StateHoliday\", y = \"Sales\", data = df_new)\n",
    "\n",
    "# information about the data\n",
    "df_new.info()\n",
    "\n",
    "# find the count of each value according to category\n",
    "print(pd.crosstab(df_new[\"Assortment\"], df_new[\"Sales\"]))\n"
   ]
  },
  {
   "cell_type": "code",
   "execution_count": null,
   "metadata": {},
   "outputs": [],
   "source": []
  },
  {
   "cell_type": "code",
   "execution_count": null,
   "metadata": {},
   "outputs": [],
   "source": []
  }
 ],
 "metadata": {
  "kernelspec": {
   "display_name": "Python 3",
   "language": "python",
   "name": "python3"
  },
  "language_info": {
   "codemirror_mode": {
    "name": "ipython",
    "version": 3
   },
   "file_extension": ".py",
   "mimetype": "text/x-python",
   "name": "python",
   "nbconvert_exporter": "python",
   "pygments_lexer": "ipython3",
   "version": "3.6.7"
  }
 },
 "nbformat": 4,
 "nbformat_minor": 2
}
