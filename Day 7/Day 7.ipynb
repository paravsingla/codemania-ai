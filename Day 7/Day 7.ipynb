{
 "cells": [
  {
   "cell_type": "code",
   "execution_count": 21,
   "metadata": {
    "scrolled": false
   },
   "outputs": [
    {
     "name": "stderr",
     "output_type": "stream",
     "text": [
      "/usr/local/lib/python3.6/dist-packages/IPython/core/interactiveshell.py:2728: DtypeWarning: Columns (7) have mixed types. Specify dtype option on import or set low_memory=False.\n",
      "  interactivity=interactivity, compiler=compiler, result=result)\n",
      "/usr/local/lib/python3.6/dist-packages/sklearn/preprocessing/_encoders.py:414: FutureWarning: The handling of integer data will change in version 0.22. Currently, the categories are determined based on the range [0, max(values)], while in the future they will be determined based on the unique values.\n",
      "If you want the future behaviour and silence this warning, you can specify \"categories='auto'\".\n",
      "In case you used a LabelEncoder before this OneHotEncoder to convert the categories to integers, then you can now use the OneHotEncoder directly.\n",
      "  warnings.warn(msg, FutureWarning)\n",
      "/usr/local/lib/python3.6/dist-packages/sklearn/preprocessing/_encoders.py:414: FutureWarning: The handling of integer data will change in version 0.22. Currently, the categories are determined based on the range [0, max(values)], while in the future they will be determined based on the unique values.\n",
      "If you want the future behaviour and silence this warning, you can specify \"categories='auto'\".\n",
      "In case you used a LabelEncoder before this OneHotEncoder to convert the categories to integers, then you can now use the OneHotEncoder directly.\n",
      "  warnings.warn(msg, FutureWarning)\n",
      "/usr/local/lib/python3.6/dist-packages/sklearn/preprocessing/_encoders.py:414: FutureWarning: The handling of integer data will change in version 0.22. Currently, the categories are determined based on the range [0, max(values)], while in the future they will be determined based on the unique values.\n",
      "If you want the future behaviour and silence this warning, you can specify \"categories='auto'\".\n",
      "In case you used a LabelEncoder before this OneHotEncoder to convert the categories to integers, then you can now use the OneHotEncoder directly.\n",
      "  warnings.warn(msg, FutureWarning)\n",
      "/usr/local/lib/python3.6/dist-packages/sklearn/preprocessing/_encoders.py:414: FutureWarning: The handling of integer data will change in version 0.22. Currently, the categories are determined based on the range [0, max(values)], while in the future they will be determined based on the unique values.\n",
      "If you want the future behaviour and silence this warning, you can specify \"categories='auto'\".\n",
      "In case you used a LabelEncoder before this OneHotEncoder to convert the categories to integers, then you can now use the OneHotEncoder directly.\n",
      "  warnings.warn(msg, FutureWarning)\n",
      "/usr/local/lib/python3.6/dist-packages/sklearn/preprocessing/_encoders.py:414: FutureWarning: The handling of integer data will change in version 0.22. Currently, the categories are determined based on the range [0, max(values)], while in the future they will be determined based on the unique values.\n",
      "If you want the future behaviour and silence this warning, you can specify \"categories='auto'\".\n",
      "In case you used a LabelEncoder before this OneHotEncoder to convert the categories to integers, then you can now use the OneHotEncoder directly.\n",
      "  warnings.warn(msg, FutureWarning)\n",
      "/usr/local/lib/python3.6/dist-packages/sklearn/preprocessing/_encoders.py:414: FutureWarning: The handling of integer data will change in version 0.22. Currently, the categories are determined based on the range [0, max(values)], while in the future they will be determined based on the unique values.\n",
      "If you want the future behaviour and silence this warning, you can specify \"categories='auto'\".\n",
      "In case you used a LabelEncoder before this OneHotEncoder to convert the categories to integers, then you can now use the OneHotEncoder directly.\n",
      "  warnings.warn(msg, FutureWarning)\n"
     ]
    },
    {
     "name": "stdout",
     "output_type": "stream",
     "text": [
      "5770.380903616925\n",
      "2893.1482827058435\n"
     ]
    }
   ],
   "source": [
    "import pandas as pd\n",
    "df = pd.read_csv(\"train.csv\")\n",
    "store = pd.read_csv(\"store.csv\")\n",
    "df_new = df.merge(store, on = \"Store\", how = \"inner\")\n",
    "import numpy as np\n",
    "df_new['Date'] = pd.to_datetime(df[\"Date\"], infer_datetime_format = True)\n",
    "df_new[\"Day\"] = df_new[\"Date\"].dt.day\n",
    "df_new[\"Month\"] = df_new[\"Date\"].dt.month\n",
    "df_new[\"Week\"] = df_new[\"Date\"].dt.week\n",
    "df_new[\"Year\"] = df_new[\"Date\"].dt.year\n",
    "df_new[\"Quarter\"] = df_new[\"Date\"].dt.quarter\n",
    "# df_new.info()\n",
    "# print(df_new.isnull().sum()/len(df_new)*100)\n",
    "df_new[\"Promo2SinceWeek\"] = df_new[\"Promo2SinceWeek\"].fillna(\n",
    "    df_new[\"Promo2SinceWeek\"].mode()[0])\n",
    "df_new[\"CompetitionDistance\"] = df_new[\"CompetitionDistance\"].fillna(\n",
    "    df_new[\"CompetitionDistance\"].mode()[0])\n",
    "df_new[\"CompetitionOpenSinceMonth\"] = df_new[\"CompetitionOpenSinceMonth\"].fillna(\n",
    "    df_new[\"CompetitionOpenSinceMonth\"].mode()[0])\n",
    "df_new[\"CompetitionOpenSinceYear\"] = df_new[\"CompetitionOpenSinceYear\"].fillna(\n",
    "    df_new[\"CompetitionOpenSinceYear\"].mode()[0])\n",
    "df_new[\"Promo2SinceYear\"] = df_new[\"Promo2SinceYear\"].fillna(\n",
    "    df_new[\"Promo2SinceYear\"].mode()[0])\n",
    "df_new[\"PromoInterval\"] = df_new[\"PromoInterval\"].fillna(\n",
    "    df_new[\"PromoInterval\"].mode()[0])\n",
    "#print(df_new.isnull().sum()/len(df_new)*100)\n",
    "from sklearn.preprocessing import LabelEncoder\n",
    "from sklearn.preprocessing import OneHotEncoder\n",
    "target = [\"Sales\"]\n",
    "categorical_columns = [\"DayOfWeek\", \"Quarter\", \"Month\", \"Year\",\n",
    "                      \"StoreType\", \"Assortment\"]\n",
    "numerical_columns = [\"Customers\", \"Open\", \"Promo\", \"Promo2\",\n",
    "                    \"StateHoliday\", \"SchoolHoliday\", \n",
    "                    \"CompetitionDistance\"]\n",
    "\n",
    "def create_ohe(df, col):\n",
    "    le = LabelEncoder()\n",
    "    a = le.fit_transform(df[col]).reshape(-1,1)\n",
    "    ohe = OneHotEncoder(sparse = False)\n",
    "    column_names = [col + \"_\" + str(i) for i in le.classes_]\n",
    "    return (pd.DataFrame(ohe.fit_transform(a), columns = \n",
    "                        column_names))\n",
    "temp = df_new[numerical_columns]\n",
    "for column in categorical_columns:\n",
    "    temp_df = create_ohe(df_new, column)\n",
    "    temp = pd.concat([temp, temp_df], axis = 1)\n",
    "temp[\"StateHoliday\"].unique()\n",
    "temp[\"StateHoliday\"] = np.where(temp[\"StateHoliday\"] == '0',0,1)\n",
    "\n",
    "\n",
    "from sklearn.model_selection import train_test_split\n",
    "x_train, x_test, y_train, y_test = train_test_split(temp, df_new[\"Sales\"], \n",
    "                                                   random_state = 2019, test_size = 0.2)\n",
    "\n",
    "x_train, x_val, y_train, y_val = train_test_split(x_train, y_train, \n",
    "                                                   random_state = 2019, test_size = 0.1)\n",
    "\n",
    "mean_sales = y_train.mean()\n",
    "print(mean_sales)\n",
    "\n",
    "mae = abs(y_test - mean_sales).mean()\n",
    "print(mae)\n"
   ]
  },
  {
   "cell_type": "code",
   "execution_count": 23,
   "metadata": {},
   "outputs": [
    {
     "name": "stdout",
     "output_type": "stream",
     "text": [
      "Train on 732390 samples, validate on 81377 samples\n",
      "Epoch 1/10\n",
      "732390/732390 [==============================] - 30s 42us/step - loss: 846.5657 - mean_absolute_error: 846.5657 - val_loss: 714.7126 - val_mean_absolute_error: 714.7126\n",
      "Epoch 2/10\n",
      "732390/732390 [==============================] - 30s 41us/step - loss: 724.4561 - mean_absolute_error: 724.4561 - val_loss: 699.0277 - val_mean_absolute_error: 699.0277\n",
      "Epoch 3/10\n",
      "732390/732390 [==============================] - 30s 41us/step - loss: 700.8747 - mean_absolute_error: 700.8747 - val_loss: 676.4772 - val_mean_absolute_error: 676.4772\n",
      "Epoch 4/10\n",
      "732390/732390 [==============================] - 31s 42us/step - loss: 685.7018 - mean_absolute_error: 685.7018 - val_loss: 839.8975 - val_mean_absolute_error: 839.8975\n",
      "Epoch 5/10\n",
      "732390/732390 [==============================] - 31s 42us/step - loss: 672.7050 - mean_absolute_error: 672.7050 - val_loss: 654.6262 - val_mean_absolute_error: 654.6262\n",
      "Epoch 6/10\n",
      "732390/732390 [==============================] - 31s 42us/step - loss: 661.3911 - mean_absolute_error: 661.3911 - val_loss: 643.0048 - val_mean_absolute_error: 643.0048\n",
      "Epoch 7/10\n",
      "732390/732390 [==============================] - 31s 42us/step - loss: 648.5017 - mean_absolute_error: 648.5017 - val_loss: 622.4525 - val_mean_absolute_error: 622.4525\n",
      "Epoch 8/10\n",
      "732390/732390 [==============================] - 32s 44us/step - loss: 639.1416 - mean_absolute_error: 639.1416 - val_loss: 618.7891 - val_mean_absolute_error: 618.7891\n",
      "Epoch 9/10\n",
      "732390/732390 [==============================] - 32s 44us/step - loss: 628.4974 - mean_absolute_error: 628.4974 - val_loss: 602.2527 - val_mean_absolute_error: 602.2527\n",
      "Epoch 10/10\n",
      "732390/732390 [==============================] - 31s 42us/step - loss: 617.9974 - mean_absolute_error: 617.9974 - val_loss: 622.3178 - val_mean_absolute_error: 622.3178\n"
     ]
    },
    {
     "data": {
      "text/plain": [
       "<keras.callbacks.History at 0x7f299eca3eb8>"
      ]
     },
     "execution_count": 23,
     "metadata": {},
     "output_type": "execute_result"
    }
   ],
   "source": [
    "\n",
    "from keras.models import Sequential\n",
    "from keras.layers import Dense\n",
    "from keras.callbacks import History\n",
    "\n",
    "history = History()\n",
    "\n",
    "model_1 = Sequential()\n",
    "\n",
    "model_1.add(Dense(150, input_dim = 40, activation = \"relu\"))\n",
    "model_1.add(Dense(150, activation = \"relu\"))\n",
    "model_1.add(Dense(150, activation = \"relu\"))\n",
    "model_1.add(Dense(1, activation = \"linear\"))\n",
    "\n",
    "model_1.compile(optimizer = 'adam', \n",
    "                loss = \"mean_absolute_error\",\n",
    "               metrics = [\"mean_absolute_error\"])\n",
    "model_1.fit(x_train, y_train, validation_data = (x_val,y_val),\n",
    "           epochs = 10, batch_size = 64 , callbacks = [history])\n"
   ]
  },
  {
   "cell_type": "code",
   "execution_count": 24,
   "metadata": {},
   "outputs": [
    {
     "data": {
      "text/plain": [
       "Text(0, 0.5, 'Loss')"
      ]
     },
     "execution_count": 24,
     "metadata": {},
     "output_type": "execute_result"
    },
    {
     "data": {
      "image/png": "[encoded data removed]",
      "text/plain": [
       "<Figure size 432x288 with 1 Axes>"
      ]
     },
     "metadata": {},
     "output_type": "display_data"
    }
   ],
   "source": [
    "%matplotlib inline\n",
    "import matplotlib.pyplot as plt\n",
    "plt.plot(history.history['loss'])\n",
    "plt.plot(history.history['val_loss'])\n",
    "plt.xlabel(\"Epochs\")\n",
    "plt.ylabel(\"Loss\")"
   ]
  },
  {
   "cell_type": "code",
   "execution_count": 25,
   "metadata": {},
   "outputs": [
    {
     "name": "stdout",
     "output_type": "stream",
     "text": [
      "203442/203442 [==============================] - 4s 20us/step\n",
      "[626.7596318043953, 626.7596318043953]\n"
     ]
    }
   ],
   "source": [
    "result = model_1.evaluate(x_test, y_test)\n",
    "print(result)"
   ]
  },
  {
   "cell_type": "code",
   "execution_count": 26,
   "metadata": {},
   "outputs": [
    {
     "name": "stdout",
     "output_type": "stream",
     "text": [
      "Train on 732390 samples, validate on 81377 samples\n",
      "Epoch 1/10\n",
      "732390/732390 [==============================] - 18s 25us/step - loss: 2254312.9686 - mean_absolute_error: 954.6562 - val_loss: 1598346.1932 - val_mean_absolute_error: 876.6700\n",
      "Epoch 2/10\n",
      "732390/732390 [==============================] - 18s 25us/step - loss: 1473432.2889 - mean_absolute_error: 844.4409 - val_loss: 1365610.2211 - val_mean_absolute_error: 834.9088\n",
      "Epoch 3/10\n",
      "732390/732390 [==============================] - 18s 25us/step - loss: 1304261.2941 - mean_absolute_error: 803.4686 - val_loss: 1171897.1497 - val_mean_absolute_error: 759.6751\n",
      "Epoch 4/10\n",
      "732390/732390 [==============================] - 18s 24us/step - loss: 1210117.4609 - mean_absolute_error: 771.5605 - val_loss: 1185558.8601 - val_mean_absolute_error: 775.2690\n",
      "Epoch 5/10\n",
      "732390/732390 [==============================] - 18s 25us/step - loss: 1166641.1955 - mean_absolute_error: 754.1166 - val_loss: 1084599.6812 - val_mean_absolute_error: 727.5438\n",
      "Epoch 6/10\n",
      "732390/732390 [==============================] - 19s 25us/step - loss: 1135809.0744 - mean_absolute_error: 742.6058 - val_loss: 1093326.2155 - val_mean_absolute_error: 727.3985\n",
      "Epoch 7/10\n",
      "732390/732390 [==============================] - 18s 25us/step - loss: 1121289.1896 - mean_absolute_error: 737.8159 - val_loss: 1146100.8488 - val_mean_absolute_error: 761.6108\n",
      "Epoch 8/10\n",
      "732390/732390 [==============================] - 18s 25us/step - loss: 1104794.8239 - mean_absolute_error: 732.7390 - val_loss: 1033916.8236 - val_mean_absolute_error: 709.0337\n",
      "Epoch 9/10\n",
      "732390/732390 [==============================] - 18s 25us/step - loss: 1095488.2006 - mean_absolute_error: 730.2181 - val_loss: 1141596.1365 - val_mean_absolute_error: 747.8176\n",
      "Epoch 10/10\n",
      "732390/732390 [==============================] - 18s 25us/step - loss: 1080521.9894 - mean_absolute_error: 724.3239 - val_loss: 1051597.1390 - val_mean_absolute_error: 726.0322\n"
     ]
    },
    {
     "data": {
      "text/plain": [
       "<keras.callbacks.History at 0x7f29a90dc048>"
      ]
     },
     "execution_count": 26,
     "metadata": {},
     "output_type": "execute_result"
    }
   ],
   "source": [
    "history_m2 = History()\n",
    "\n",
    "model_2 = Sequential()\n",
    "\n",
    "model_2.add(Dense(350, input_dim = 40, activation = \"relu\"))\n",
    "# model_1.add(Dense(150, activation = \"relu\"))\n",
    "# model_1.add(Dense(150, activation = \"relu\"))\n",
    "model_2.add(Dense(1, activation = \"linear\"))\n",
    "\n",
    "model_2.compile(optimizer = 'adam', \n",
    "                loss = \"mean_squared_error\",\n",
    "               metrics = [\"mean_absolute_error\"])\n",
    "model_2.fit(x_train, y_train, validation_data = (x_val,y_val),\n",
    "           epochs = 10, batch_size = 64 , callbacks = [history_m2])"
   ]
  },
  {
   "cell_type": "code",
   "execution_count": 28,
   "metadata": {},
   "outputs": [
    {
     "data": {
      "text/plain": [
       "Text(0, 0.5, 'Loss')"
      ]
     },
     "execution_count": 28,
     "metadata": {},
     "output_type": "execute_result"
    },
    {
     "data": {
      "image/png": "[encoded data removed]",
      "text/plain": [
       "<Figure size 432x288 with 1 Axes>"
      ]
     },
     "metadata": {},
     "output_type": "display_data"
    }
   ],
   "source": [
    "%matplotlib inline\n",
    "import matplotlib.pyplot as plt\n",
    "plt.plot(history_m2.history['loss'])\n",
    "plt.plot(history_m2.history['val_loss'])\n",
    "plt.xlabel(\"Epochs\")\n",
    "plt.ylabel(\"Loss\")"
   ]
  },
  {
   "cell_type": "code",
   "execution_count": 29,
   "metadata": {},
   "outputs": [
    {
     "name": "stdout",
     "output_type": "stream",
     "text": [
      "Train on 732390 samples, validate on 81377 samples\n",
      "Epoch 1/15\n",
      "732390/732390 [==============================] - 118s 162us/step - loss: 1656799.1410 - mean_absolute_error: 848.4872 - val_loss: 1171244.1569 - val_mean_absolute_error: 743.1520\n",
      "Epoch 2/15\n",
      "732390/732390 [==============================] - 118s 161us/step - loss: 1184749.6012 - mean_absolute_error: 731.8568 - val_loss: 1061990.2275 - val_mean_absolute_error: 704.8842\n",
      "Epoch 3/15\n",
      "732390/732390 [==============================] - 118s 161us/step - loss: 1090531.9158 - mean_absolute_error: 702.7046 - val_loss: 1023555.5733 - val_mean_absolute_error: 701.2409\n",
      "Epoch 4/15\n",
      "732390/732390 [==============================] - 118s 160us/step - loss: 1029283.3526 - mean_absolute_error: 682.1502 - val_loss: 962487.1996 - val_mean_absolute_error: 663.7247\n",
      "Epoch 5/15\n",
      "732390/732390 [==============================] - 119s 163us/step - loss: 974572.6014 - mean_absolute_error: 663.3894 - val_loss: 852526.4489 - val_mean_absolute_error: 622.0126\n",
      "Epoch 6/15\n",
      "732390/732390 [==============================] - 116s 158us/step - loss: 924101.6551 - mean_absolute_error: 644.3969 - val_loss: 885467.9746 - val_mean_absolute_error: 625.9323\n",
      "Epoch 7/15\n",
      "732390/732390 [==============================] - 117s 159us/step - loss: 878120.4768 - mean_absolute_error: 625.4385 - val_loss: 1088124.0885 - val_mean_absolute_error: 719.6235\n",
      "Epoch 8/15\n",
      "732390/732390 [==============================] - 111s 151us/step - loss: 843435.0251 - mean_absolute_error: 610.8453 - val_loss: 806523.0536 - val_mean_absolute_error: 595.3708\n",
      "Epoch 9/15\n",
      "732390/732390 [==============================] - 109s 149us/step - loss: 791485.4405 - mean_absolute_error: 589.3161 - val_loss: 838811.3497 - val_mean_absolute_error: 620.1514\n",
      "Epoch 10/15\n",
      "732390/732390 [==============================] - 112s 154us/step - loss: 750162.6054 - mean_absolute_error: 570.7822 - val_loss: 708006.7334 - val_mean_absolute_error: 557.0123\n",
      "Epoch 11/15\n",
      "732390/732390 [==============================] - 113s 154us/step - loss: 718741.2360 - mean_absolute_error: 556.1457 - val_loss: 645200.3022 - val_mean_absolute_error: 526.8477\n",
      "Epoch 12/15\n",
      "732390/732390 [==============================] - 116s 158us/step - loss: 689836.2518 - mean_absolute_error: 543.8529 - val_loss: 681674.3883 - val_mean_absolute_error: 529.9600\n",
      "Epoch 13/15\n",
      "732390/732390 [==============================] - 115s 157us/step - loss: 672954.3450 - mean_absolute_error: 535.6486 - val_loss: 616926.5924 - val_mean_absolute_error: 512.1815\n",
      "Epoch 14/15\n",
      "732390/732390 [==============================] - 117s 159us/step - loss: 652205.0330 - mean_absolute_error: 526.7126 - val_loss: 697754.8681 - val_mean_absolute_error: 555.0145\n",
      "Epoch 15/15\n",
      "732390/732390 [==============================] - 114s 156us/step - loss: 638880.1171 - mean_absolute_error: 520.2603 - val_loss: 648068.8743 - val_mean_absolute_error: 531.0767\n"
     ]
    },
    {
     "data": {
      "text/plain": [
       "<keras.callbacks.History at 0x7f29a8ba9e10>"
      ]
     },
     "execution_count": 29,
     "metadata": {},
     "output_type": "execute_result"
    }
   ],
   "source": [
    "history_m3 = History()\n",
    "\n",
    "model_3 = Sequential()\n",
    "\n",
    "model_3.add(Dense(350, input_dim = 40, activation = \"relu\"))\n",
    "model_3.add(Dense(350, activation = \"relu\"))\n",
    "model_3.add(Dense(350, activation = \"relu\"))\n",
    "model_3.add(Dense(350, activation = \"relu\"))\n",
    "model_3.add(Dense(350, activation = \"relu\"))\n",
    "model_3.add(Dense(1, activation = \"linear\"))\n",
    "\n",
    "model_3.compile(optimizer = 'adam', \n",
    "                loss = \"mean_squared_error\",\n",
    "               metrics = [\"mean_absolute_error\"])\n",
    "model_3.fit(x_train, y_train, validation_data = (x_val,y_val),\n",
    "           epochs = 15, batch_size = 64 , callbacks = [history_m3])"
   ]
  },
  {
   "cell_type": "code",
   "execution_count": 31,
   "metadata": {},
   "outputs": [
    {
     "ename": "MemoryError",
     "evalue": "",
     "output_type": "error",
     "traceback": [
      "\u001b[0;31m---------------------------------------------------------------------------\u001b[0m",
      "\u001b[0;31mMemoryError\u001b[0m                               Traceback (most recent call last)",
      "\u001b[0;32m<ipython-input-31-ec28c3f2df95>\u001b[0m in \u001b[0;36m<module>\u001b[0;34m()\u001b[0m\n\u001b[1;32m      1\u001b[0m \u001b[0my_test_pred\u001b[0m \u001b[0;34m=\u001b[0m \u001b[0mmodel_2\u001b[0m\u001b[0;34m.\u001b[0m\u001b[0mpredict\u001b[0m\u001b[0;34m(\u001b[0m\u001b[0mx_test\u001b[0m\u001b[0;34m)\u001b[0m\u001b[0;34m\u001b[0m\u001b[0;34m\u001b[0m\u001b[0m\n\u001b[0;32m----> 2\u001b[0;31m \u001b[0mmae\u001b[0m \u001b[0;34m=\u001b[0m \u001b[0mabs\u001b[0m\u001b[0;34m(\u001b[0m\u001b[0my_test_pred\u001b[0m \u001b[0;34m-\u001b[0m \u001b[0my_test\u001b[0m\u001b[0;34m)\u001b[0m\u001b[0;34m.\u001b[0m\u001b[0mmean\u001b[0m\u001b[0;34m(\u001b[0m\u001b[0;34m)\u001b[0m\u001b[0;34m\u001b[0m\u001b[0;34m\u001b[0m\u001b[0m\n\u001b[0m\u001b[1;32m      3\u001b[0m \u001b[0mmse\u001b[0m \u001b[0;34m=\u001b[0m \u001b[0;34m(\u001b[0m\u001b[0;34m(\u001b[0m\u001b[0my_test_pred\u001b[0m \u001b[0;34m-\u001b[0m \u001b[0my_test\u001b[0m\u001b[0;34m)\u001b[0m\u001b[0;34m**\u001b[0m\u001b[0;36m2\u001b[0m\u001b[0;34m)\u001b[0m\u001b[0;34m.\u001b[0m\u001b[0mmean\u001b[0m\u001b[0;34m(\u001b[0m\u001b[0;34m)\u001b[0m\u001b[0;34m\u001b[0m\u001b[0;34m\u001b[0m\u001b[0m\n",
      "\u001b[0;32m/usr/local/lib/python3.6/dist-packages/pandas/core/ops.py\u001b[0m in \u001b[0;36mwrapper\u001b[0;34m(left, right)\u001b[0m\n\u001b[1;32m   1581\u001b[0m             \u001b[0mrvalues\u001b[0m \u001b[0;34m=\u001b[0m \u001b[0mrvalues\u001b[0m\u001b[0;34m.\u001b[0m\u001b[0mvalues\u001b[0m\u001b[0;34m\u001b[0m\u001b[0;34m\u001b[0m\u001b[0m\n\u001b[1;32m   1582\u001b[0m \u001b[0;34m\u001b[0m\u001b[0m\n\u001b[0;32m-> 1583\u001b[0;31m         \u001b[0mresult\u001b[0m \u001b[0;34m=\u001b[0m \u001b[0msafe_na_op\u001b[0m\u001b[0;34m(\u001b[0m\u001b[0mlvalues\u001b[0m\u001b[0;34m,\u001b[0m \u001b[0mrvalues\u001b[0m\u001b[0;34m)\u001b[0m\u001b[0;34m\u001b[0m\u001b[0;34m\u001b[0m\u001b[0m\n\u001b[0m\u001b[1;32m   1584\u001b[0m         return construct_result(left, result,\n\u001b[1;32m   1585\u001b[0m                                 index=left.index, name=res_name, dtype=None)\n",
      "\u001b[0;32m/usr/local/lib/python3.6/dist-packages/pandas/core/ops.py\u001b[0m in \u001b[0;36msafe_na_op\u001b[0;34m(lvalues, rvalues)\u001b[0m\n\u001b[1;32m   1527\u001b[0m         \u001b[0;32mtry\u001b[0m\u001b[0;34m:\u001b[0m\u001b[0;34m\u001b[0m\u001b[0;34m\u001b[0m\u001b[0m\n\u001b[1;32m   1528\u001b[0m             \u001b[0;32mwith\u001b[0m \u001b[0mnp\u001b[0m\u001b[0;34m.\u001b[0m\u001b[0merrstate\u001b[0m\u001b[0;34m(\u001b[0m\u001b[0mall\u001b[0m\u001b[0;34m=\u001b[0m\u001b[0;34m'ignore'\u001b[0m\u001b[0;34m)\u001b[0m\u001b[0;34m:\u001b[0m\u001b[0;34m\u001b[0m\u001b[0;34m\u001b[0m\u001b[0m\n\u001b[0;32m-> 1529\u001b[0;31m                 \u001b[0;32mreturn\u001b[0m \u001b[0mna_op\u001b[0m\u001b[0;34m(\u001b[0m\u001b[0mlvalues\u001b[0m\u001b[0;34m,\u001b[0m \u001b[0mrvalues\u001b[0m\u001b[0;34m)\u001b[0m\u001b[0;34m\u001b[0m\u001b[0;34m\u001b[0m\u001b[0m\n\u001b[0m\u001b[1;32m   1530\u001b[0m         \u001b[0;32mexcept\u001b[0m \u001b[0mException\u001b[0m\u001b[0;34m:\u001b[0m\u001b[0;34m\u001b[0m\u001b[0;34m\u001b[0m\u001b[0m\n\u001b[1;32m   1531\u001b[0m             \u001b[0;32mif\u001b[0m \u001b[0mis_object_dtype\u001b[0m\u001b[0;34m(\u001b[0m\u001b[0mlvalues\u001b[0m\u001b[0;34m)\u001b[0m\u001b[0;34m:\u001b[0m\u001b[0;34m\u001b[0m\u001b[0;34m\u001b[0m\u001b[0m\n",
      "\u001b[0;32m/usr/local/lib/python3.6/dist-packages/pandas/core/ops.py\u001b[0m in \u001b[0;36mna_op\u001b[0;34m(x, y)\u001b[0m\n\u001b[1;32m   1503\u001b[0m         \u001b[0;32mimport\u001b[0m \u001b[0mpandas\u001b[0m\u001b[0;34m.\u001b[0m\u001b[0mcore\u001b[0m\u001b[0;34m.\u001b[0m\u001b[0mcomputation\u001b[0m\u001b[0;34m.\u001b[0m\u001b[0mexpressions\u001b[0m \u001b[0;32mas\u001b[0m \u001b[0mexpressions\u001b[0m\u001b[0;34m\u001b[0m\u001b[0;34m\u001b[0m\u001b[0m\n\u001b[1;32m   1504\u001b[0m         \u001b[0;32mtry\u001b[0m\u001b[0;34m:\u001b[0m\u001b[0;34m\u001b[0m\u001b[0;34m\u001b[0m\u001b[0m\n\u001b[0;32m-> 1505\u001b[0;31m             \u001b[0mresult\u001b[0m \u001b[0;34m=\u001b[0m \u001b[0mexpressions\u001b[0m\u001b[0;34m.\u001b[0m\u001b[0mevaluate\u001b[0m\u001b[0;34m(\u001b[0m\u001b[0mop\u001b[0m\u001b[0;34m,\u001b[0m \u001b[0mstr_rep\u001b[0m\u001b[0;34m,\u001b[0m \u001b[0mx\u001b[0m\u001b[0;34m,\u001b[0m \u001b[0my\u001b[0m\u001b[0;34m,\u001b[0m \u001b[0;34m**\u001b[0m\u001b[0meval_kwargs\u001b[0m\u001b[0;34m)\u001b[0m\u001b[0;34m\u001b[0m\u001b[0;34m\u001b[0m\u001b[0m\n\u001b[0m\u001b[1;32m   1506\u001b[0m         \u001b[0;32mexcept\u001b[0m \u001b[0mTypeError\u001b[0m\u001b[0;34m:\u001b[0m\u001b[0;34m\u001b[0m\u001b[0;34m\u001b[0m\u001b[0m\n\u001b[1;32m   1507\u001b[0m             \u001b[0mresult\u001b[0m \u001b[0;34m=\u001b[0m \u001b[0mmasked_arith_op\u001b[0m\u001b[0;34m(\u001b[0m\u001b[0mx\u001b[0m\u001b[0;34m,\u001b[0m \u001b[0my\u001b[0m\u001b[0;34m,\u001b[0m \u001b[0mop\u001b[0m\u001b[0;34m)\u001b[0m\u001b[0;34m\u001b[0m\u001b[0;34m\u001b[0m\u001b[0m\n",
      "\u001b[0;32m/usr/local/lib/python3.6/dist-packages/pandas/core/computation/expressions.py\u001b[0m in \u001b[0;36mevaluate\u001b[0;34m(op, op_str, a, b, use_numexpr, **eval_kwargs)\u001b[0m\n\u001b[1;32m    206\u001b[0m     \u001b[0muse_numexpr\u001b[0m \u001b[0;34m=\u001b[0m \u001b[0muse_numexpr\u001b[0m \u001b[0;32mand\u001b[0m \u001b[0m_bool_arith_check\u001b[0m\u001b[0;34m(\u001b[0m\u001b[0mop_str\u001b[0m\u001b[0;34m,\u001b[0m \u001b[0ma\u001b[0m\u001b[0;34m,\u001b[0m \u001b[0mb\u001b[0m\u001b[0;34m)\u001b[0m\u001b[0;34m\u001b[0m\u001b[0;34m\u001b[0m\u001b[0m\n\u001b[1;32m    207\u001b[0m     \u001b[0;32mif\u001b[0m \u001b[0muse_numexpr\u001b[0m\u001b[0;34m:\u001b[0m\u001b[0;34m\u001b[0m\u001b[0;34m\u001b[0m\u001b[0m\n\u001b[0;32m--> 208\u001b[0;31m         \u001b[0;32mreturn\u001b[0m \u001b[0m_evaluate\u001b[0m\u001b[0;34m(\u001b[0m\u001b[0mop\u001b[0m\u001b[0;34m,\u001b[0m \u001b[0mop_str\u001b[0m\u001b[0;34m,\u001b[0m \u001b[0ma\u001b[0m\u001b[0;34m,\u001b[0m \u001b[0mb\u001b[0m\u001b[0;34m,\u001b[0m \u001b[0;34m**\u001b[0m\u001b[0meval_kwargs\u001b[0m\u001b[0;34m)\u001b[0m\u001b[0;34m\u001b[0m\u001b[0;34m\u001b[0m\u001b[0m\n\u001b[0m\u001b[1;32m    209\u001b[0m     \u001b[0;32mreturn\u001b[0m \u001b[0m_evaluate_standard\u001b[0m\u001b[0;34m(\u001b[0m\u001b[0mop\u001b[0m\u001b[0;34m,\u001b[0m \u001b[0mop_str\u001b[0m\u001b[0;34m,\u001b[0m \u001b[0ma\u001b[0m\u001b[0;34m,\u001b[0m \u001b[0mb\u001b[0m\u001b[0;34m)\u001b[0m\u001b[0;34m\u001b[0m\u001b[0;34m\u001b[0m\u001b[0m\n\u001b[1;32m    210\u001b[0m \u001b[0;34m\u001b[0m\u001b[0m\n",
      "\u001b[0;32m/usr/local/lib/python3.6/dist-packages/pandas/core/computation/expressions.py\u001b[0m in \u001b[0;36m_evaluate_standard\u001b[0;34m(op, op_str, a, b, **eval_kwargs)\u001b[0m\n\u001b[1;32m     66\u001b[0m         \u001b[0m_store_test_result\u001b[0m\u001b[0;34m(\u001b[0m\u001b[0;32mFalse\u001b[0m\u001b[0;34m)\u001b[0m\u001b[0;34m\u001b[0m\u001b[0;34m\u001b[0m\u001b[0m\n\u001b[1;32m     67\u001b[0m     \u001b[0;32mwith\u001b[0m \u001b[0mnp\u001b[0m\u001b[0;34m.\u001b[0m\u001b[0merrstate\u001b[0m\u001b[0;34m(\u001b[0m\u001b[0mall\u001b[0m\u001b[0;34m=\u001b[0m\u001b[0;34m'ignore'\u001b[0m\u001b[0;34m)\u001b[0m\u001b[0;34m:\u001b[0m\u001b[0;34m\u001b[0m\u001b[0;34m\u001b[0m\u001b[0m\n\u001b[0;32m---> 68\u001b[0;31m         \u001b[0;32mreturn\u001b[0m \u001b[0mop\u001b[0m\u001b[0;34m(\u001b[0m\u001b[0ma\u001b[0m\u001b[0;34m,\u001b[0m \u001b[0mb\u001b[0m\u001b[0;34m)\u001b[0m\u001b[0;34m\u001b[0m\u001b[0;34m\u001b[0m\u001b[0m\n\u001b[0m\u001b[1;32m     69\u001b[0m \u001b[0;34m\u001b[0m\u001b[0m\n\u001b[1;32m     70\u001b[0m \u001b[0;34m\u001b[0m\u001b[0m\n",
      "\u001b[0;32m/usr/local/lib/python3.6/dist-packages/pandas/core/ops.py\u001b[0m in \u001b[0;36mrsub\u001b[0;34m(left, right)\u001b[0m\n\u001b[1;32m    146\u001b[0m \u001b[0;34m\u001b[0m\u001b[0m\n\u001b[1;32m    147\u001b[0m \u001b[0;32mdef\u001b[0m \u001b[0mrsub\u001b[0m\u001b[0;34m(\u001b[0m\u001b[0mleft\u001b[0m\u001b[0;34m,\u001b[0m \u001b[0mright\u001b[0m\u001b[0;34m)\u001b[0m\u001b[0;34m:\u001b[0m\u001b[0;34m\u001b[0m\u001b[0;34m\u001b[0m\u001b[0m\n\u001b[0;32m--> 148\u001b[0;31m     \u001b[0;32mreturn\u001b[0m \u001b[0mright\u001b[0m \u001b[0;34m-\u001b[0m \u001b[0mleft\u001b[0m\u001b[0;34m\u001b[0m\u001b[0;34m\u001b[0m\u001b[0m\n\u001b[0m\u001b[1;32m    149\u001b[0m \u001b[0;34m\u001b[0m\u001b[0m\n\u001b[1;32m    150\u001b[0m \u001b[0;34m\u001b[0m\u001b[0m\n",
      "\u001b[0;31mMemoryError\u001b[0m: "
     ]
    }
   ],
   "source": [
    "y_test_pred = model_2.predict(x_test)\n",
    "mae = abs(y_test_pred - y_test).mean()\n",
    "mse = ((y_test_pred - y_test)**2).mean()"
   ]
  },
  {
   "cell_type": "code",
   "execution_count": 32,
   "metadata": {},
   "outputs": [
    {
     "data": {
      "text/plain": [
       "Text(0, 0.5, 'Loss')"
      ]
     },
     "execution_count": 32,
     "metadata": {},
     "output_type": "execute_result"
    },
    {
     "data": {
      "image/png": "[encoded data removed]",
      "text/plain": [
       "<Figure size 432x288 with 1 Axes>"
      ]
     },
     "metadata": {},
     "output_type": "display_data"
    }
   ],
   "source": [
    "%matplotlib inline\n",
    "import matplotlib.pyplot as plt\n",
    "plt.plot(history_m3.history['loss'])\n",
    "plt.plot(history_m3.history['val_loss'])\n",
    "plt.xlabel(\"Epochs\")\n",
    "plt.ylabel(\"Loss\")"
   ]
  },
  {
   "cell_type": "code",
   "execution_count": 34,
   "metadata": {},
   "outputs": [
    {
     "name": "stdout",
     "output_type": "stream",
     "text": [
      "203442/203442 [==============================] - 11s 56us/step\n",
      "[657165.3533881892, 531.5513014252858]\n"
     ]
    }
   ],
   "source": [
    "result = model_3.evaluate(x_test, y_test)\n",
    "print(result)"
   ]
  },
  {
   "cell_type": "code",
   "execution_count": 35,
   "metadata": {},
   "outputs": [],
   "source": [
    "model_3.save(\"rossman_model\")"
   ]
  },
  {
   "cell_type": "code",
   "execution_count": 38,
   "metadata": {},
   "outputs": [
    {
     "name": "stdout",
     "output_type": "stream",
     "text": [
      "('{\"class_name\": \"Sequential\", \"config\": {\"name\": \"sequential_4\", \"layers\": '\n",
      " '[{\"class_name\": \"Dense\", \"config\": {\"name\": \"dense_9\", \"trainable\": true, '\n",
      " '\"batch_input_shape\": [null, 40], \"dtype\": \"float32\", \"units\": 350, '\n",
      " '\"activation\": \"relu\", \"use_bias\": true, \"kernel_initializer\": {\"class_name\": '\n",
      " '\"VarianceScaling\", \"config\": {\"scale\": 1.0, \"mode\": \"fan_avg\", '\n",
      " '\"distribution\": \"uniform\", \"seed\": null}}, \"bias_initializer\": '\n",
      " '{\"class_name\": \"Zeros\", \"config\": {}}, \"kernel_regularizer\": null, '\n",
      " '\"bias_regularizer\": null, \"activity_regularizer\": null, \"kernel_constraint\": '\n",
      " 'null, \"bias_constraint\": null}}, {\"class_name\": \"Dense\", \"config\": {\"name\": '\n",
      " '\"dense_10\", \"trainable\": true, \"units\": 350, \"activation\": \"relu\", '\n",
      " '\"use_bias\": true, \"kernel_initializer\": {\"class_name\": \"VarianceScaling\", '\n",
      " '\"config\": {\"scale\": 1.0, \"mode\": \"fan_avg\", \"distribution\": \"uniform\", '\n",
      " '\"seed\": null}}, \"bias_initializer\": {\"class_name\": \"Zeros\", \"config\": {}}, '\n",
      " '\"kernel_regularizer\": null, \"bias_regularizer\": null, '\n",
      " '\"activity_regularizer\": null, \"kernel_constraint\": null, \"bias_constraint\": '\n",
      " 'null}}, {\"class_name\": \"Dense\", \"config\": {\"name\": \"dense_11\", \"trainable\": '\n",
      " 'true, \"units\": 350, \"activation\": \"relu\", \"use_bias\": true, '\n",
      " '\"kernel_initializer\": {\"class_name\": \"VarianceScaling\", \"config\": {\"scale\": '\n",
      " '1.0, \"mode\": \"fan_avg\", \"distribution\": \"uniform\", \"seed\": null}}, '\n",
      " '\"bias_initializer\": {\"class_name\": \"Zeros\", \"config\": {}}, '\n",
      " '\"kernel_regularizer\": null, \"bias_regularizer\": null, '\n",
      " '\"activity_regularizer\": null, \"kernel_constraint\": null, \"bias_constraint\": '\n",
      " 'null}}, {\"class_name\": \"Dense\", \"config\": {\"name\": \"dense_12\", \"trainable\": '\n",
      " 'true, \"units\": 350, \"activation\": \"relu\", \"use_bias\": true, '\n",
      " '\"kernel_initializer\": {\"class_name\": \"VarianceScaling\", \"config\": {\"scale\": '\n",
      " '1.0, \"mode\": \"fan_avg\", \"distribution\": \"uniform\", \"seed\": null}}, '\n",
      " '\"bias_initializer\": {\"class_name\": \"Zeros\", \"config\": {}}, '\n",
      " '\"kernel_regularizer\": null, \"bias_regularizer\": null, '\n",
      " '\"activity_regularizer\": null, \"kernel_constraint\": null, \"bias_constraint\": '\n",
      " 'null}}, {\"class_name\": \"Dense\", \"config\": {\"name\": \"dense_13\", \"trainable\": '\n",
      " 'true, \"units\": 350, \"activation\": \"relu\", \"use_bias\": true, '\n",
      " '\"kernel_initializer\": {\"class_name\": \"VarianceScaling\", \"config\": {\"scale\": '\n",
      " '1.0, \"mode\": \"fan_avg\", \"distribution\": \"uniform\", \"seed\": null}}, '\n",
      " '\"bias_initializer\": {\"class_name\": \"Zeros\", \"config\": {}}, '\n",
      " '\"kernel_regularizer\": null, \"bias_regularizer\": null, '\n",
      " '\"activity_regularizer\": null, \"kernel_constraint\": null, \"bias_constraint\": '\n",
      " 'null}}, {\"class_name\": \"Dense\", \"config\": {\"name\": \"dense_14\", \"trainable\": '\n",
      " 'true, \"units\": 1, \"activation\": \"linear\", \"use_bias\": true, '\n",
      " '\"kernel_initializer\": {\"class_name\": \"VarianceScaling\", \"config\": {\"scale\": '\n",
      " '1.0, \"mode\": \"fan_avg\", \"distribution\": \"uniform\", \"seed\": null}}, '\n",
      " '\"bias_initializer\": {\"class_name\": \"Zeros\", \"config\": {}}, '\n",
      " '\"kernel_regularizer\": null, \"bias_regularizer\": null, '\n",
      " '\"activity_regularizer\": null, \"kernel_constraint\": null, \"bias_constraint\": '\n",
      " 'null}}]}, \"keras_version\": \"2.2.4\", \"backend\": \"tensorflow\"}')\n"
     ]
    }
   ],
   "source": [
    "from keras.models import load_model\n",
    "import pprint\n",
    "pp = pprint.PrettyPrinter()\n",
    "model_loaded = load_model(\"rossman_model\")\n",
    "j = model_loaded.to_json()\n",
    "pp.pprint(j)"
   ]
  },
  {
   "cell_type": "code",
   "execution_count": null,
   "metadata": {},
   "outputs": [],
   "source": []
  }
 ],
 "metadata": {
  "kernelspec": {
   "display_name": "Python 3",
   "language": "python",
   "name": "python3"
  },
  "language_info": {
   "codemirror_mode": {
    "name": "ipython",
    "version": 3
   },
   "file_extension": ".py",
   "mimetype": "text/x-python",
   "name": "python",
   "nbconvert_exporter": "python",
   "pygments_lexer": "ipython3",
   "version": "3.6.7"
  }
 },
 "nbformat": 4,
 "nbformat_minor": 2
}
